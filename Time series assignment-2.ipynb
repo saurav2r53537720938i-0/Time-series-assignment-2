{
 "cells": [
  {
   "cell_type": "markdown",
   "id": "8d7100ca-2883-4933-894d-5685b59d622e",
   "metadata": {},
   "source": [
    "Time dependent seasonal components refer to pattern in data that repeat at regular intervals over time such as daily weekly monthly or yearlyy cycles these patterns can vary in magnitiude or shape from one cycle to another making them independent on the specfic time period beings consider for examples sales of ice cream might increase during summer months and decrease during the winter months creating a seasonal pattern components are called time dependent are called because they change over timr influenced by various factors such as trends holidays or econmic condtions"
   ]
  },
  {
   "cell_type": "markdown",
   "id": "166617e9-e580-4eb0-8e6c-f28251256a2d",
   "metadata": {},
   "source": [
    "Time -dependent seasonal components can be identified in time series data through various method including:\n",
    "1. Visual inspection\n",
    "2. Seasonal decompostion\n",
    "3. Autocorrelation analysis\n",
    "4. Seasonal subseries plots\n",
    "5. Time series models\n",
    "By applying these method analysts can effectively identify and understand the tme dependent seasonal componnets prsent in their time series data"
   ]
  },
  {
   "cell_type": "markdown",
   "id": "07cb27f9-7fea-408e-9a6a-189aa2ae99b5",
   "metadata": {},
   "source": [
    "Sevral factors can influence time-dependent seasonal components in time series data:\n",
    "1. Calendar effects\n",
    "2. Weather pattern\n",
    "3. Cultural and Societal factors\n",
    "4. Econmic condtions\n",
    "5. Industry-specfic factors\n",
    "6. Technlogical advancements\n",
    "7. Geograpical location\n",
    "by considering these factors analysts can better understand and model the comoplex dynamics underlying time dependent seasonal components in their time series data"
   ]
  },
  {
   "cell_type": "markdown",
   "id": "a4548593-a058-41a9-92d9-1cd9bdccb8d8",
   "metadata": {},
   "source": [
    "Autoregressive models are a class of time series models used in time series anyalysis and forcasting they predict  future value of a time series based on its own past value\n",
    "1. Modeling\n",
    "2. Parameter estimation\n",
    "3. Forecasting\n",
    "4. model evluation\n",
    "Autoregressive models are widely in various fields including finance econmic engineering and enviromental science for modeling and forecasting time series data with autocorrelation structure they are particularly useful when there is evidence of serial correlation in the data an they serve as fundamental building blocks for more complex tiem series models like ARIMA"
   ]
  },
  {
   "cell_type": "code",
   "execution_count": null,
   "id": "0bb1442a-beb6-443c-a2a0-d5177ae09b9a",
   "metadata": {},
   "outputs": [],
   "source": []
  }
 ],
 "metadata": {
  "kernelspec": {
   "display_name": "Python 3 (ipykernel)",
   "language": "python",
   "name": "python3"
  },
  "language_info": {
   "codemirror_mode": {
    "name": "ipython",
    "version": 3
   },
   "file_extension": ".py",
   "mimetype": "text/x-python",
   "name": "python",
   "nbconvert_exporter": "python",
   "pygments_lexer": "ipython3",
   "version": "3.10.8"
  }
 },
 "nbformat": 4,
 "nbformat_minor": 5
}
